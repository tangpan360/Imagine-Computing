{
 "cells": [
  {
   "cell_type": "code",
   "execution_count": 1,
   "metadata": {
    "pycharm": {
     "name": "#%%\n"
    }
   },
   "outputs": [],
   "source": [
    "# 导入数据处理包\n",
    "import pandas as pd\n",
    "import numpy as np"
   ]
  },
  {
   "cell_type": "code",
   "execution_count": 2,
   "metadata": {
    "pycharm": {
     "name": "#%%\n"
    }
   },
   "outputs": [
    {
     "name": "stdout",
     "output_type": "stream",
     "text": [
      "训练数据集： (9000000, 18) \n",
      "测试数据集： (3000000, 17)\n"
     ]
    }
   ],
   "source": [
    "# 导入数据\n",
    "train_path = './dataset/training_dataset.csv'\n",
    "test_path = './dataset/test_dataset.csv'\n",
    "# 训练集的 dataframe\n",
    "df_train = pd.read_csv(train_path)  \n",
    "# 测试集的 dataframe\n",
    "df_test = pd.read_csv(test_path)  \n",
    "print(\"训练数据集：\", df_train.shape,\"\\n测试数据集：\", df_test.shape)"
   ]
  },
  {
   "cell_type": "code",
   "execution_count": 3,
   "metadata": {
    "pycharm": {
     "name": "#%%\n"
    }
   },
   "outputs": [
    {
     "name": "stdout",
     "output_type": "stream",
     "text": [
      "训练数据集有多少行数据： 9,000,000 \n",
      "测试数据集有多少行数据： 3,000,000\n"
     ]
    }
   ],
   "source": [
    "rowNum_train = df_train.shape[0]\n",
    "rowNum_test = df_test.shape[0]\n",
    "print(f\"训练数据集有多少行数据：\", format(rowNum_train, ','),\n",
    "      \"\\n测试数据集有多少行数据：\", format(rowNum_test, ','))"
   ]
  },
  {
   "cell_type": "code",
   "execution_count": 4,
   "metadata": {
    "pycharm": {
     "name": "#%%\n"
    }
   },
   "outputs": [
    {
     "data": {
      "text/plain": "  domain_name node_name  avg_fbt_time  synack1_ratio  tcp_conntime  \\\n0    domain_4  node_512             9       0.977783            73   \n1    domain_4  node_267             6       0.981447            73   \n2    domain_4  node_241             7       0.958187            94   \n3    domain_4  node_366             9       0.970852            76   \n4    domain_4  node_267             6       0.978701            80   \n\n   icmp_lossrate  icmp_rtt  ratio_499_5xx  inner_network_droprate  \\\n0       0.041359        14       0.010886                 0.01826   \n1       0.039783        15       0.009644                 0.02938   \n2       0.019030        25       0.008851                 0.02100   \n3       0.024911        23       0.008981                 0.00270   \n4       0.041947        14       0.009667                 0.02940   \n\n   inner_network_rtt  cpu_util  mem_util  io_await_avg  io_await_max  \\\n0                  0   0.04032   0.62174            11            16   \n1                  0   0.06964   0.48950             2             2   \n2                  0   0.04388   0.60738            14            23   \n3                  0   0.08012   0.52092             2             2   \n4                  0   0.07562   0.48996             2             3   \n\n   io_util_avg  io_util_max  ng_traf_level  buffer_rate  \n0      0.01678       0.0215            0.0     0.027413  \n1      0.02708       0.0285            0.0     0.015271  \n2      0.02980       0.0415            0.0     0.024042  \n3      0.01058       0.0119            0.0     0.000000  \n4      0.03044       0.0340            0.0     0.008762  ",
      "text/html": "<div>\n<style scoped>\n    .dataframe tbody tr th:only-of-type {\n        vertical-align: middle;\n    }\n\n    .dataframe tbody tr th {\n        vertical-align: top;\n    }\n\n    .dataframe thead th {\n        text-align: right;\n    }\n</style>\n<table border=\"1\" class=\"dataframe\">\n  <thead>\n    <tr style=\"text-align: right;\">\n      <th></th>\n      <th>domain_name</th>\n      <th>node_name</th>\n      <th>avg_fbt_time</th>\n      <th>synack1_ratio</th>\n      <th>tcp_conntime</th>\n      <th>icmp_lossrate</th>\n      <th>icmp_rtt</th>\n      <th>ratio_499_5xx</th>\n      <th>inner_network_droprate</th>\n      <th>inner_network_rtt</th>\n      <th>cpu_util</th>\n      <th>mem_util</th>\n      <th>io_await_avg</th>\n      <th>io_await_max</th>\n      <th>io_util_avg</th>\n      <th>io_util_max</th>\n      <th>ng_traf_level</th>\n      <th>buffer_rate</th>\n    </tr>\n  </thead>\n  <tbody>\n    <tr>\n      <th>0</th>\n      <td>domain_4</td>\n      <td>node_512</td>\n      <td>9</td>\n      <td>0.977783</td>\n      <td>73</td>\n      <td>0.041359</td>\n      <td>14</td>\n      <td>0.010886</td>\n      <td>0.01826</td>\n      <td>0</td>\n      <td>0.04032</td>\n      <td>0.62174</td>\n      <td>11</td>\n      <td>16</td>\n      <td>0.01678</td>\n      <td>0.0215</td>\n      <td>0.0</td>\n      <td>0.027413</td>\n    </tr>\n    <tr>\n      <th>1</th>\n      <td>domain_4</td>\n      <td>node_267</td>\n      <td>6</td>\n      <td>0.981447</td>\n      <td>73</td>\n      <td>0.039783</td>\n      <td>15</td>\n      <td>0.009644</td>\n      <td>0.02938</td>\n      <td>0</td>\n      <td>0.06964</td>\n      <td>0.48950</td>\n      <td>2</td>\n      <td>2</td>\n      <td>0.02708</td>\n      <td>0.0285</td>\n      <td>0.0</td>\n      <td>0.015271</td>\n    </tr>\n    <tr>\n      <th>2</th>\n      <td>domain_4</td>\n      <td>node_241</td>\n      <td>7</td>\n      <td>0.958187</td>\n      <td>94</td>\n      <td>0.019030</td>\n      <td>25</td>\n      <td>0.008851</td>\n      <td>0.02100</td>\n      <td>0</td>\n      <td>0.04388</td>\n      <td>0.60738</td>\n      <td>14</td>\n      <td>23</td>\n      <td>0.02980</td>\n      <td>0.0415</td>\n      <td>0.0</td>\n      <td>0.024042</td>\n    </tr>\n    <tr>\n      <th>3</th>\n      <td>domain_4</td>\n      <td>node_366</td>\n      <td>9</td>\n      <td>0.970852</td>\n      <td>76</td>\n      <td>0.024911</td>\n      <td>23</td>\n      <td>0.008981</td>\n      <td>0.00270</td>\n      <td>0</td>\n      <td>0.08012</td>\n      <td>0.52092</td>\n      <td>2</td>\n      <td>2</td>\n      <td>0.01058</td>\n      <td>0.0119</td>\n      <td>0.0</td>\n      <td>0.000000</td>\n    </tr>\n    <tr>\n      <th>4</th>\n      <td>domain_4</td>\n      <td>node_267</td>\n      <td>6</td>\n      <td>0.978701</td>\n      <td>80</td>\n      <td>0.041947</td>\n      <td>14</td>\n      <td>0.009667</td>\n      <td>0.02940</td>\n      <td>0</td>\n      <td>0.07562</td>\n      <td>0.48996</td>\n      <td>2</td>\n      <td>3</td>\n      <td>0.03044</td>\n      <td>0.0340</td>\n      <td>0.0</td>\n      <td>0.008762</td>\n    </tr>\n  </tbody>\n</table>\n</div>"
     },
     "execution_count": 4,
     "metadata": {},
     "output_type": "execute_result"
    }
   ],
   "source": [
    "df_train.head()"
   ]
  },
  {
   "cell_type": "code",
   "execution_count": 5,
   "metadata": {
    "pycharm": {
     "name": "#%%\n"
    }
   },
   "outputs": [
    {
     "data": {
      "text/plain": "       avg_fbt_time  synack1_ratio  tcp_conntime  icmp_lossrate      icmp_rtt  \\\ncount  9.000000e+06   9.000000e+06  9.000000e+06   9.000000e+06  9.000000e+06   \nmean   1.198010e+01   9.708070e-01  3.705120e+01   4.719892e-02  1.987810e+01   \nstd    1.090517e+01   2.384037e-02  3.757257e+01   3.725216e-02  7.865565e+00   \nmin    0.000000e+00   0.000000e+00  0.000000e+00   0.000000e+00  0.000000e+00   \n25%    7.000000e+00   9.642600e-01  2.400000e+01   1.984300e-02  1.400000e+01   \n50%    1.000000e+01   9.742150e-01  3.200000e+01   3.768600e-02  1.900000e+01   \n75%    1.400000e+01   9.817150e-01  3.800000e+01   6.102300e-02  2.400000e+01   \nmax    3.448000e+03   1.000000e+00  1.796400e+04   6.882350e-01  1.860000e+03   \n\n       ratio_499_5xx  inner_network_droprate  inner_network_rtt      cpu_util  \\\ncount   9.000000e+06            9.000000e+06       9.000000e+06  9.000000e+06   \nmean    4.838214e-03            5.165061e-02       3.844444e-05  2.635642e-01   \nstd     4.078035e-03            3.509516e-02       1.375979e-02  1.774642e-01   \nmin     0.000000e+00            0.000000e+00       0.000000e+00  1.272000e-02   \n25%     3.125000e-03            2.000000e-02       0.000000e+00  1.219400e-01   \n50%     4.138000e-03            5.070000e-02       0.000000e+00  2.173800e-01   \n75%     5.729000e-03            7.830000e-02       0.000000e+00  3.671400e-01   \nmax     8.340690e-01            6.342000e-01       9.000000e+00  9.965600e-01   \n\n           mem_util  io_await_avg  io_await_max   io_util_avg   io_util_max  \\\ncount  9.000000e+06  9.000000e+06  9.000000e+06  9.000000e+06  9.000000e+06   \nmean   5.633994e-01  1.328168e+01  1.905540e+01  1.901040e-01  2.391962e-01   \nstd    5.627241e-02  5.701472e+00  5.659894e+01  1.465331e-01  1.750533e-01   \nmin    6.578000e-02  0.000000e+00  0.000000e+00  0.000000e+00  0.000000e+00   \n25%    5.243000e-01  1.200000e+01  1.600000e+01  7.608000e-02  1.012000e-01   \n50%    5.537800e-01  1.400000e+01  1.800000e+01  1.575400e-01  2.046000e-01   \n75%    5.926000e-01  1.600000e+01  2.100000e+01  2.710600e-01  3.404000e-01   \nmax    9.252800e-01  1.230000e+02  4.210300e+04  9.725200e-01  9.992000e-01   \n\n       ng_traf_level   buffer_rate  \ncount   9.000000e+06  9.000000e+06  \nmean    3.156310e-01  3.614143e-02  \nstd     2.099748e-01  3.059798e-02  \nmin     0.000000e+00  0.000000e+00  \n25%     1.580000e-01  1.864480e-02  \n50%     2.920000e-01  2.833947e-02  \n75%     4.420000e-01  4.475067e-02  \nmax     9.716000e+00  1.393186e+00  ",
      "text/html": "<div>\n<style scoped>\n    .dataframe tbody tr th:only-of-type {\n        vertical-align: middle;\n    }\n\n    .dataframe tbody tr th {\n        vertical-align: top;\n    }\n\n    .dataframe thead th {\n        text-align: right;\n    }\n</style>\n<table border=\"1\" class=\"dataframe\">\n  <thead>\n    <tr style=\"text-align: right;\">\n      <th></th>\n      <th>avg_fbt_time</th>\n      <th>synack1_ratio</th>\n      <th>tcp_conntime</th>\n      <th>icmp_lossrate</th>\n      <th>icmp_rtt</th>\n      <th>ratio_499_5xx</th>\n      <th>inner_network_droprate</th>\n      <th>inner_network_rtt</th>\n      <th>cpu_util</th>\n      <th>mem_util</th>\n      <th>io_await_avg</th>\n      <th>io_await_max</th>\n      <th>io_util_avg</th>\n      <th>io_util_max</th>\n      <th>ng_traf_level</th>\n      <th>buffer_rate</th>\n    </tr>\n  </thead>\n  <tbody>\n    <tr>\n      <th>count</th>\n      <td>9.000000e+06</td>\n      <td>9.000000e+06</td>\n      <td>9.000000e+06</td>\n      <td>9.000000e+06</td>\n      <td>9.000000e+06</td>\n      <td>9.000000e+06</td>\n      <td>9.000000e+06</td>\n      <td>9.000000e+06</td>\n      <td>9.000000e+06</td>\n      <td>9.000000e+06</td>\n      <td>9.000000e+06</td>\n      <td>9.000000e+06</td>\n      <td>9.000000e+06</td>\n      <td>9.000000e+06</td>\n      <td>9.000000e+06</td>\n      <td>9.000000e+06</td>\n    </tr>\n    <tr>\n      <th>mean</th>\n      <td>1.198010e+01</td>\n      <td>9.708070e-01</td>\n      <td>3.705120e+01</td>\n      <td>4.719892e-02</td>\n      <td>1.987810e+01</td>\n      <td>4.838214e-03</td>\n      <td>5.165061e-02</td>\n      <td>3.844444e-05</td>\n      <td>2.635642e-01</td>\n      <td>5.633994e-01</td>\n      <td>1.328168e+01</td>\n      <td>1.905540e+01</td>\n      <td>1.901040e-01</td>\n      <td>2.391962e-01</td>\n      <td>3.156310e-01</td>\n      <td>3.614143e-02</td>\n    </tr>\n    <tr>\n      <th>std</th>\n      <td>1.090517e+01</td>\n      <td>2.384037e-02</td>\n      <td>3.757257e+01</td>\n      <td>3.725216e-02</td>\n      <td>7.865565e+00</td>\n      <td>4.078035e-03</td>\n      <td>3.509516e-02</td>\n      <td>1.375979e-02</td>\n      <td>1.774642e-01</td>\n      <td>5.627241e-02</td>\n      <td>5.701472e+00</td>\n      <td>5.659894e+01</td>\n      <td>1.465331e-01</td>\n      <td>1.750533e-01</td>\n      <td>2.099748e-01</td>\n      <td>3.059798e-02</td>\n    </tr>\n    <tr>\n      <th>min</th>\n      <td>0.000000e+00</td>\n      <td>0.000000e+00</td>\n      <td>0.000000e+00</td>\n      <td>0.000000e+00</td>\n      <td>0.000000e+00</td>\n      <td>0.000000e+00</td>\n      <td>0.000000e+00</td>\n      <td>0.000000e+00</td>\n      <td>1.272000e-02</td>\n      <td>6.578000e-02</td>\n      <td>0.000000e+00</td>\n      <td>0.000000e+00</td>\n      <td>0.000000e+00</td>\n      <td>0.000000e+00</td>\n      <td>0.000000e+00</td>\n      <td>0.000000e+00</td>\n    </tr>\n    <tr>\n      <th>25%</th>\n      <td>7.000000e+00</td>\n      <td>9.642600e-01</td>\n      <td>2.400000e+01</td>\n      <td>1.984300e-02</td>\n      <td>1.400000e+01</td>\n      <td>3.125000e-03</td>\n      <td>2.000000e-02</td>\n      <td>0.000000e+00</td>\n      <td>1.219400e-01</td>\n      <td>5.243000e-01</td>\n      <td>1.200000e+01</td>\n      <td>1.600000e+01</td>\n      <td>7.608000e-02</td>\n      <td>1.012000e-01</td>\n      <td>1.580000e-01</td>\n      <td>1.864480e-02</td>\n    </tr>\n    <tr>\n      <th>50%</th>\n      <td>1.000000e+01</td>\n      <td>9.742150e-01</td>\n      <td>3.200000e+01</td>\n      <td>3.768600e-02</td>\n      <td>1.900000e+01</td>\n      <td>4.138000e-03</td>\n      <td>5.070000e-02</td>\n      <td>0.000000e+00</td>\n      <td>2.173800e-01</td>\n      <td>5.537800e-01</td>\n      <td>1.400000e+01</td>\n      <td>1.800000e+01</td>\n      <td>1.575400e-01</td>\n      <td>2.046000e-01</td>\n      <td>2.920000e-01</td>\n      <td>2.833947e-02</td>\n    </tr>\n    <tr>\n      <th>75%</th>\n      <td>1.400000e+01</td>\n      <td>9.817150e-01</td>\n      <td>3.800000e+01</td>\n      <td>6.102300e-02</td>\n      <td>2.400000e+01</td>\n      <td>5.729000e-03</td>\n      <td>7.830000e-02</td>\n      <td>0.000000e+00</td>\n      <td>3.671400e-01</td>\n      <td>5.926000e-01</td>\n      <td>1.600000e+01</td>\n      <td>2.100000e+01</td>\n      <td>2.710600e-01</td>\n      <td>3.404000e-01</td>\n      <td>4.420000e-01</td>\n      <td>4.475067e-02</td>\n    </tr>\n    <tr>\n      <th>max</th>\n      <td>3.448000e+03</td>\n      <td>1.000000e+00</td>\n      <td>1.796400e+04</td>\n      <td>6.882350e-01</td>\n      <td>1.860000e+03</td>\n      <td>8.340690e-01</td>\n      <td>6.342000e-01</td>\n      <td>9.000000e+00</td>\n      <td>9.965600e-01</td>\n      <td>9.252800e-01</td>\n      <td>1.230000e+02</td>\n      <td>4.210300e+04</td>\n      <td>9.725200e-01</td>\n      <td>9.992000e-01</td>\n      <td>9.716000e+00</td>\n      <td>1.393186e+00</td>\n    </tr>\n  </tbody>\n</table>\n</div>"
     },
     "execution_count": 5,
     "metadata": {},
     "output_type": "execute_result"
    }
   ],
   "source": [
    "# 获取数据类型列的描述统计信息\n",
    "df_train.describe()  "
   ]
  },
  {
   "cell_type": "code",
   "execution_count": 6,
   "metadata": {
    "pycharm": {
     "name": "#%%\n"
    }
   },
   "outputs": [
    {
     "name": "stderr",
     "output_type": "stream",
     "text": [
      "C:\\Users\\Tang\\.conda\\envs\\py3\\lib\\site-packages\\ipykernel_launcher.py:2: FutureWarning: null_counts is deprecated. Use show_counts instead\n",
      "  \n"
     ]
    },
    {
     "name": "stdout",
     "output_type": "stream",
     "text": [
      "<class 'pandas.core.frame.DataFrame'>\n",
      "RangeIndex: 9000000 entries, 0 to 8999999\n",
      "Data columns (total 18 columns):\n",
      " #   Column                  Non-Null Count    Dtype  \n",
      "---  ------                  --------------    -----  \n",
      " 0   domain_name             9000000 non-null  object \n",
      " 1   node_name               9000000 non-null  object \n",
      " 2   avg_fbt_time            9000000 non-null  int64  \n",
      " 3   synack1_ratio           9000000 non-null  float64\n",
      " 4   tcp_conntime            9000000 non-null  int64  \n",
      " 5   icmp_lossrate           9000000 non-null  float64\n",
      " 6   icmp_rtt                9000000 non-null  int64  \n",
      " 7   ratio_499_5xx           9000000 non-null  float64\n",
      " 8   inner_network_droprate  9000000 non-null  float64\n",
      " 9   inner_network_rtt       9000000 non-null  int64  \n",
      " 10  cpu_util                9000000 non-null  float64\n",
      " 11  mem_util                9000000 non-null  float64\n",
      " 12  io_await_avg            9000000 non-null  int64  \n",
      " 13  io_await_max            9000000 non-null  int64  \n",
      " 14  io_util_avg             9000000 non-null  float64\n",
      " 15  io_util_max             9000000 non-null  float64\n",
      " 16  ng_traf_level           9000000 non-null  float64\n",
      " 17  buffer_rate             9000000 non-null  float64\n",
      "dtypes: float64(10), int64(6), object(2)\n",
      "memory usage: 1.2+ GB\n"
     ]
    }
   ],
   "source": [
    "# 查看每一列的数据类型、和数据总数以及数据缺失情况\n",
    "df_train.info(null_counts=True)  "
   ]
  },
  {
   "cell_type": "code",
   "execution_count": 7,
   "metadata": {
    "pycharm": {
     "name": "#%%\n"
    }
   },
   "outputs": [],
   "source": [
    "# df_train.value_counts()"
   ]
  },
  {
   "cell_type": "code",
   "execution_count": 8,
   "metadata": {
    "pycharm": {
     "name": "#%%\n"
    }
   },
   "outputs": [],
   "source": [
    "# 斯皮尔曼相关系数矩阵\n",
    "# corrDf = df_train.corr(method='spearman')\n",
    "# corrDf"
   ]
  },
  {
   "cell_type": "code",
   "execution_count": 9,
   "metadata": {
    "pycharm": {
     "name": "#%%\n"
    }
   },
   "outputs": [
    {
     "data": {
      "text/plain": "'\\n查看各个特征与卡顿率（buffer_rate ）的相关系数，\\nascending=False 表示按降序排列\\n'"
     },
     "execution_count": 9,
     "metadata": {},
     "output_type": "execute_result"
    }
   ],
   "source": [
    "\"\"\"\n",
    "查看各个特征与卡顿率（buffer_rate ）的相关系数，\n",
    "ascending=False 表示按降序排列\n",
    "\"\"\"\n",
    "# corrDf['buffer_rate'].sort_values(ascending=False)"
   ]
  },
  {
   "cell_type": "code",
   "execution_count": 10,
   "metadata": {
    "pycharm": {
     "name": "#%%\n"
    }
   },
   "outputs": [
    {
     "data": {
      "text/plain": "'\\n查看各个特征与卡顿率（buffer_rate ）的相关系数，\\n.abs() 表示相关性系数取绝对值\\nascending=False 表示按降序排列\\n'"
     },
     "execution_count": 10,
     "metadata": {},
     "output_type": "execute_result"
    }
   ],
   "source": [
    "\"\"\"\n",
    "查看各个特征与卡顿率（buffer_rate ）的相关系数，\n",
    ".abs() 表示相关性系数取绝对值\n",
    "ascending=False 表示按降序排列\n",
    "\"\"\"\n",
    "# corrDf['buffer_rate'].abs().sort_values(ascending=False)"
   ]
  },
  {
   "cell_type": "code",
   "execution_count": 11,
   "metadata": {
    "pycharm": {
     "name": "#%%\n"
    }
   },
   "outputs": [
    {
     "data": {
      "text/plain": "   icmp_lossrate  tcp_conntime  synack1_ratio  icmp_rtt  avg_fbt_time  \\\n0       0.041359            73       0.977783        14             9   \n1       0.039783            73       0.981447        15             6   \n2       0.019030            94       0.958187        25             7   \n3       0.024911            76       0.970852        23             9   \n4       0.041947            80       0.978701        14             6   \n\n   ratio_499_5xx  cpu_util  ng_traf_level  inner_network_droprate  \n0       0.010886   0.04032            0.0                 0.01826  \n1       0.009644   0.06964            0.0                 0.02938  \n2       0.008851   0.04388            0.0                 0.02100  \n3       0.008981   0.08012            0.0                 0.00270  \n4       0.009667   0.07562            0.0                 0.02940  ",
      "text/html": "<div>\n<style scoped>\n    .dataframe tbody tr th:only-of-type {\n        vertical-align: middle;\n    }\n\n    .dataframe tbody tr th {\n        vertical-align: top;\n    }\n\n    .dataframe thead th {\n        text-align: right;\n    }\n</style>\n<table border=\"1\" class=\"dataframe\">\n  <thead>\n    <tr style=\"text-align: right;\">\n      <th></th>\n      <th>icmp_lossrate</th>\n      <th>tcp_conntime</th>\n      <th>synack1_ratio</th>\n      <th>icmp_rtt</th>\n      <th>avg_fbt_time</th>\n      <th>ratio_499_5xx</th>\n      <th>cpu_util</th>\n      <th>ng_traf_level</th>\n      <th>inner_network_droprate</th>\n    </tr>\n  </thead>\n  <tbody>\n    <tr>\n      <th>0</th>\n      <td>0.041359</td>\n      <td>73</td>\n      <td>0.977783</td>\n      <td>14</td>\n      <td>9</td>\n      <td>0.010886</td>\n      <td>0.04032</td>\n      <td>0.0</td>\n      <td>0.01826</td>\n    </tr>\n    <tr>\n      <th>1</th>\n      <td>0.039783</td>\n      <td>73</td>\n      <td>0.981447</td>\n      <td>15</td>\n      <td>6</td>\n      <td>0.009644</td>\n      <td>0.06964</td>\n      <td>0.0</td>\n      <td>0.02938</td>\n    </tr>\n    <tr>\n      <th>2</th>\n      <td>0.019030</td>\n      <td>94</td>\n      <td>0.958187</td>\n      <td>25</td>\n      <td>7</td>\n      <td>0.008851</td>\n      <td>0.04388</td>\n      <td>0.0</td>\n      <td>0.02100</td>\n    </tr>\n    <tr>\n      <th>3</th>\n      <td>0.024911</td>\n      <td>76</td>\n      <td>0.970852</td>\n      <td>23</td>\n      <td>9</td>\n      <td>0.008981</td>\n      <td>0.08012</td>\n      <td>0.0</td>\n      <td>0.00270</td>\n    </tr>\n    <tr>\n      <th>4</th>\n      <td>0.041947</td>\n      <td>80</td>\n      <td>0.978701</td>\n      <td>14</td>\n      <td>6</td>\n      <td>0.009667</td>\n      <td>0.07562</td>\n      <td>0.0</td>\n      <td>0.02940</td>\n    </tr>\n  </tbody>\n</table>\n</div>"
     },
     "execution_count": 11,
     "metadata": {},
     "output_type": "execute_result"
    }
   ],
   "source": [
    "# 特征选择：根据各个特征与卡顿率（buffer_rate）的相关系数大小，选相关系数大于绝对值大于 0.05 的特征作为模型的输入\n",
    "train_feature = pd.concat([df_train['icmp_lossrate'],\n",
    "                    df_train['tcp_conntime'],\n",
    "                    df_train['synack1_ratio'],\n",
    "                    df_train['icmp_rtt'],\n",
    "                    df_train['avg_fbt_time'],                    \n",
    "                    df_train['ratio_499_5xx'],\n",
    "                    df_train['cpu_util'],\n",
    "                    df_train['ng_traf_level'],\n",
    "                    df_train['inner_network_droprate']], axis=1)\n",
    "\n",
    "train_feature.head()"
   ]
  },
  {
   "cell_type": "code",
   "execution_count": 12,
   "metadata": {
    "pycharm": {
     "name": "#%%\n"
    }
   },
   "outputs": [],
   "source": [
    "test_feature = pd.concat([df_test['icmp_lossrate'],\n",
    "                    df_test['tcp_conntime'],\n",
    "                    df_test['synack1_ratio'],\n",
    "                    df_test['icmp_rtt'],\n",
    "                    df_test['avg_fbt_time'],                    \n",
    "                    df_test['ratio_499_5xx'],\n",
    "                    df_test['cpu_util'],\n",
    "                    df_test['ng_traf_level'],\n",
    "                    df_test['inner_network_droprate']], axis=1)"
   ]
  },
  {
   "cell_type": "code",
   "execution_count": 13,
   "metadata": {
    "pycharm": {
     "name": "#%%\n"
    }
   },
   "outputs": [
    {
     "name": "stdout",
     "output_type": "stream",
     "text": [
      "特征筛选后的训练集： (9000000, 9) \n",
      "特征筛选后的测试集： (3000000, 9)\n"
     ]
    }
   ],
   "source": [
    "print(\"特征筛选后的训练集：\", train_feature.shape, \n",
    "        \"\\n特征筛选后的测试集：\", test_feature.shape)"
   ]
  },
  {
   "cell_type": "code",
   "execution_count": 14,
   "metadata": {
    "pycharm": {
     "name": "#%%\n"
    }
   },
   "outputs": [],
   "source": [
    "# 选取训练集中相关性较高的特征矩阵作为输入特征矩阵\n",
    "source_X = train_feature \n",
    "# 选原训练矩阵的最后一列 buffer_rate 作为输出标签\n",
    "source_y = df_train.loc[:, 'buffer_rate']  \n",
    "\n",
    "# 选取测试集中相关性较高的特征矩阵作为预测的输入特征矩阵\n",
    "pred_X = test_feature"
   ]
  },
  {
   "cell_type": "code",
   "execution_count": 15,
   "metadata": {
    "pycharm": {
     "name": "#%%\n"
    }
   },
   "outputs": [
    {
     "name": "stdout",
     "output_type": "stream",
     "text": [
      "原始训练集有多少行： 9000000\n",
      "原始预测集有多少行： 3000000\n"
     ]
    }
   ],
   "source": [
    "print(\"原始训练集有多少行：\", source_X.shape[0])\n",
    "print(\"原始预测集有多少行：\", pred_X.shape[0])"
   ]
  },
  {
   "cell_type": "code",
   "execution_count": 16,
   "metadata": {
    "pycharm": {
     "name": "#%%\n"
    }
   },
   "outputs": [
    {
     "name": "stdout",
     "output_type": "stream",
     "text": [
      "原始数据集特征： (9000000, 9) 训练数据集特征： (7200000, 9) 测试数据集特征： (1800000, 9)\n",
      "原始数据集标签： (9000000,) 训练数据集标签： (7200000,) 测试数据集标签： (1800000,)\n"
     ]
    }
   ],
   "source": [
    "from sklearn.model_selection import train_test_split\n",
    "# 建立模型用的训练数据集和测试集\n",
    "train_X, test_X, train_y, test_y = train_test_split(source_X, source_y, train_size=0.8, random_state=42)\n",
    "\n",
    "print ('原始数据集特征：',source_X.shape,\n",
    "       '训练数据集特征：',train_X.shape ,\n",
    "      '测试数据集特征：',test_X.shape)\n",
    "\n",
    "print ('原始数据集标签：',source_y.shape,\n",
    "       '训练数据集标签：',train_y.shape ,\n",
    "      '测试数据集标签：',test_y.shape)"
   ]
  },
  {
   "cell_type": "code",
   "execution_count": 17,
   "metadata": {
    "pycharm": {
     "name": "#%%\n"
    }
   },
   "outputs": [
    {
     "data": {
      "text/plain": "0    0.027413\n1    0.015271\n2    0.024042\n3    0.000000\n4    0.008762\nName: buffer_rate, dtype: float64"
     },
     "execution_count": 17,
     "metadata": {},
     "output_type": "execute_result"
    }
   ],
   "source": [
    "source_y.head()"
   ]
  },
  {
   "cell_type": "code",
   "execution_count": 18,
   "metadata": {
    "pycharm": {
     "name": "#%%\n"
    }
   },
   "outputs": [],
   "source": [
    "# 导入算法\n",
    "from sklearn.linear_model import LinearRegression\n",
    "# 创建线性回归模型\n",
    "model = LinearRegression()"
   ]
  },
  {
   "cell_type": "code",
   "execution_count": 19,
   "metadata": {
    "pycharm": {
     "name": "#%%\n"
    }
   },
   "outputs": [
    {
     "data": {
      "text/plain": "LinearRegression()"
     },
     "execution_count": 19,
     "metadata": {},
     "output_type": "execute_result"
    }
   ],
   "source": [
    "# 训练模型\n",
    "model.fit(train_X, train_y)"
   ]
  },
  {
   "cell_type": "code",
   "execution_count": 20,
   "outputs": [],
   "source": [
    "# 计算测试集的结果\n",
    "pred_y = model.predict(test_X)"
   ],
   "metadata": {
    "collapsed": false,
    "pycharm": {
     "name": "#%%\n"
    }
   }
  },
  {
   "cell_type": "code",
   "execution_count": 21,
   "outputs": [],
   "source": [
    "# 计算测试集的 mre\n",
    "mre = ((test_y - pred_y).abs() / test_y.mean()).sum() / len(test_y)\n",
    "score = (1 - min(mre, 1)) * 100"
   ],
   "metadata": {
    "collapsed": false,
    "pycharm": {
     "name": "#%%\n"
    }
   }
  },
  {
   "cell_type": "code",
   "execution_count": 22,
   "outputs": [
    {
     "data": {
      "text/plain": "50.75456481845364"
     },
     "execution_count": 22,
     "metadata": {},
     "output_type": "execute_result"
    }
   ],
   "source": [
    "score"
   ],
   "metadata": {
    "collapsed": false,
    "pycharm": {
     "name": "#%%\n"
    }
   }
  },
  {
   "cell_type": "code",
   "execution_count": 23,
   "outputs": [
    {
     "data": {
      "text/plain": "3000000"
     },
     "execution_count": 23,
     "metadata": {},
     "output_type": "execute_result"
    }
   ],
   "source": [
    "buffer_rate_prediction = model.predict(test_feature)\n",
    "# buffer_rate_prediction\n",
    "len(buffer_rate_prediction)"
   ],
   "metadata": {
    "collapsed": false,
    "pycharm": {
     "name": "#%%\n"
    }
   }
  },
  {
   "cell_type": "code",
   "execution_count": 24,
   "outputs": [
    {
     "data": {
      "text/plain": "         line_number  buffer_rate_prediction\n0                  1                0.032592\n1                  2                0.032607\n2                  3                0.039250\n3                  4                0.019845\n4                  5                0.023977\n...              ...                     ...\n2999995      2999996                0.020215\n2999996      2999997                0.040298\n2999997      2999998                0.033861\n2999998      2999999                0.038066\n2999999      3000000                0.027935\n\n[3000000 rows x 2 columns]",
      "text/html": "<div>\n<style scoped>\n    .dataframe tbody tr th:only-of-type {\n        vertical-align: middle;\n    }\n\n    .dataframe tbody tr th {\n        vertical-align: top;\n    }\n\n    .dataframe thead th {\n        text-align: right;\n    }\n</style>\n<table border=\"1\" class=\"dataframe\">\n  <thead>\n    <tr style=\"text-align: right;\">\n      <th></th>\n      <th>line_number</th>\n      <th>buffer_rate_prediction</th>\n    </tr>\n  </thead>\n  <tbody>\n    <tr>\n      <th>0</th>\n      <td>1</td>\n      <td>0.032592</td>\n    </tr>\n    <tr>\n      <th>1</th>\n      <td>2</td>\n      <td>0.032607</td>\n    </tr>\n    <tr>\n      <th>2</th>\n      <td>3</td>\n      <td>0.039250</td>\n    </tr>\n    <tr>\n      <th>3</th>\n      <td>4</td>\n      <td>0.019845</td>\n    </tr>\n    <tr>\n      <th>4</th>\n      <td>5</td>\n      <td>0.023977</td>\n    </tr>\n    <tr>\n      <th>...</th>\n      <td>...</td>\n      <td>...</td>\n    </tr>\n    <tr>\n      <th>2999995</th>\n      <td>2999996</td>\n      <td>0.020215</td>\n    </tr>\n    <tr>\n      <th>2999996</th>\n      <td>2999997</td>\n      <td>0.040298</td>\n    </tr>\n    <tr>\n      <th>2999997</th>\n      <td>2999998</td>\n      <td>0.033861</td>\n    </tr>\n    <tr>\n      <th>2999998</th>\n      <td>2999999</td>\n      <td>0.038066</td>\n    </tr>\n    <tr>\n      <th>2999999</th>\n      <td>3000000</td>\n      <td>0.027935</td>\n    </tr>\n  </tbody>\n</table>\n<p>3000000 rows × 2 columns</p>\n</div>"
     },
     "execution_count": 24,
     "metadata": {},
     "output_type": "execute_result"
    }
   ],
   "source": [
    "pred_df = pd.DataFrame({'line_number': range(1,3000001),\n",
    "                        'buffer_rate_prediction': buffer_rate_prediction})\n",
    "pred_df"
   ],
   "metadata": {
    "collapsed": false,
    "pycharm": {
     "name": "#%%\n"
    }
   }
  },
  {
   "cell_type": "code",
   "execution_count": 25,
   "outputs": [],
   "source": [
    "pred_df.to_csv('./result.csv', index=False)"
   ],
   "metadata": {
    "collapsed": false,
    "pycharm": {
     "name": "#%%\n"
    }
   }
  },
  {
   "cell_type": "code",
   "execution_count": 26,
   "outputs": [
    {
     "data": {
      "text/plain": "   line_number  buffer_rate_prediction\n0            1                0.032592\n1            2                0.032607\n2            3                0.039250\n3            4                0.019845\n4            5                0.023977",
      "text/html": "<div>\n<style scoped>\n    .dataframe tbody tr th:only-of-type {\n        vertical-align: middle;\n    }\n\n    .dataframe tbody tr th {\n        vertical-align: top;\n    }\n\n    .dataframe thead th {\n        text-align: right;\n    }\n</style>\n<table border=\"1\" class=\"dataframe\">\n  <thead>\n    <tr style=\"text-align: right;\">\n      <th></th>\n      <th>line_number</th>\n      <th>buffer_rate_prediction</th>\n    </tr>\n  </thead>\n  <tbody>\n    <tr>\n      <th>0</th>\n      <td>1</td>\n      <td>0.032592</td>\n    </tr>\n    <tr>\n      <th>1</th>\n      <td>2</td>\n      <td>0.032607</td>\n    </tr>\n    <tr>\n      <th>2</th>\n      <td>3</td>\n      <td>0.039250</td>\n    </tr>\n    <tr>\n      <th>3</th>\n      <td>4</td>\n      <td>0.019845</td>\n    </tr>\n    <tr>\n      <th>4</th>\n      <td>5</td>\n      <td>0.023977</td>\n    </tr>\n  </tbody>\n</table>\n</div>"
     },
     "execution_count": 26,
     "metadata": {},
     "output_type": "execute_result"
    }
   ],
   "source": [
    "path = './result.csv'\n",
    "a = pd.read_csv(path)\n",
    "a.head()"
   ],
   "metadata": {
    "collapsed": false,
    "pycharm": {
     "name": "#%%\n"
    }
   }
  },
  {
   "cell_type": "code",
   "execution_count": 27,
   "outputs": [
    {
     "name": "stdout",
     "output_type": "stream",
     "text": [
      "<class 'pandas.core.frame.DataFrame'>\n",
      "RangeIndex: 3000000 entries, 0 to 2999999\n",
      "Data columns (total 2 columns):\n",
      " #   Column                  Dtype  \n",
      "---  ------                  -----  \n",
      " 0   line_number             int64  \n",
      " 1   buffer_rate_prediction  float64\n",
      "dtypes: float64(1), int64(1)\n",
      "memory usage: 45.8 MB\n"
     ]
    }
   ],
   "source": [
    "a.info()"
   ],
   "metadata": {
    "collapsed": false,
    "pycharm": {
     "name": "#%%\n"
    }
   }
  }
 ],
 "metadata": {
  "kernelspec": {
   "display_name": "Python 3.9.13 ('base')",
   "language": "python",
   "name": "python3"
  },
  "language_info": {
   "codemirror_mode": {
    "name": "ipython",
    "version": 3
   },
   "file_extension": ".py",
   "mimetype": "text/x-python",
   "name": "python",
   "nbconvert_exporter": "python",
   "pygments_lexer": "ipython3",
   "version": "3.9.13"
  },
  "orig_nbformat": 4,
  "vscode": {
   "interpreter": {
    "hash": "e42634819b8c191a5d07eaf23810ff32516dd8d3875f28ec3e488928fbd3c187"
   }
  }
 },
 "nbformat": 4,
 "nbformat_minor": 2
}